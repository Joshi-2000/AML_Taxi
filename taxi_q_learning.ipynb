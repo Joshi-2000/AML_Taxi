{
 "cells": [
  {
   "cell_type": "code",
   "execution_count": 6,
   "metadata": {},
   "outputs": [],
   "source": [
    "import gymnasium as gym\n",
    "import numpy as np\n",
    "import time\n",
    "import random\n",
    "from IPython.display import clear_output"
   ]
  },
  {
   "cell_type": "code",
   "execution_count": 7,
   "metadata": {},
   "outputs": [
    {
     "name": "stdout",
     "output_type": "stream",
     "text": [
      "+---------+\n",
      "|\u001b[34;1mR\u001b[0m: | : :G|\n",
      "| : |\u001b[43m \u001b[0m: : |\n",
      "| : : : : |\n",
      "| | : | : |\n",
      "|Y| : |\u001b[35mB\u001b[0m: |\n",
      "+---------+\n",
      "\n",
      "\n"
     ]
    }
   ],
   "source": [
    "\n",
    "env = gym.make(\"Taxi-v3\", render_mode='ansi').env\n",
    "env.reset()\n",
    "print(env.render())\n"
   ]
  },
  {
   "cell_type": "code",
   "execution_count": 42,
   "metadata": {},
   "outputs": [],
   "source": [
    "# Initialize the q-table with zero values\n",
    "q_table = np.zeros([env.observation_space.n, env.action_space.n])\n",
    "\n",
    "# Hyperparameters\n",
    "learning_rate = 0.7  \n",
    "discount_rate = 0.7  \n",
    "\n",
    "num_episodes = 100000\n",
    "max_steps_per_episode = 1000\n",
    "\n",
    "\n",
    "exploration_rate = 1\n",
    "max_exploration_rate = 1\n",
    "min_exploration_rate = 0.05\n",
    "exploration_decay_rate = 0.0005\n",
    "\n",
    "# Random generator\n",
    "rng =np.random.default_rng()"
   ]
  },
  {
   "cell_type": "code",
   "execution_count": 46,
   "metadata": {},
   "outputs": [
    {
     "name": "stdout",
     "output_type": "stream",
     "text": [
      "********Average reward per thousand episodes********\n",
      "\n",
      "10000 :  -64.63250000000065\n",
      "20000 :  5.241500000000036\n",
      "30000 :  5.297300000000056\n",
      "40000 :  5.3533000000000195\n",
      "50000 :  5.308900000000062\n",
      "60000 :  5.304100000000031\n",
      "70000 :  5.34470000000003\n",
      "80000 :  5.34550000000002\n",
      "90000 :  5.362300000000025\n",
      "100000 :  5.30130000000001\n"
     ]
    }
   ],
   "source": [
    "rewards_all_episodes = []\n",
    "\n",
    "# 2 For life or until learning is stopped\n",
    "for episode in range(num_episodes):\n",
    "    # Reset the environment\n",
    "    observation, info = env.reset()\n",
    "    step = 0\n",
    "    rewards_current_episode  = 0\n",
    "    \n",
    "    for step in range(max_steps_per_episode):\n",
    "        # 3. Choose an action a in the current world state (s)\n",
    "        ## First we randomize a number\n",
    "        exploration_rate_threshold = random.uniform(0, 1)\n",
    "        \n",
    "        ## If this number > greater than epsilon --> exploitation (taking the biggest Q value for this state)\n",
    "        if exploration_rate_threshold > exploration_rate:\n",
    "            action = np.argmax(q_table[observation,:])\n",
    "\n",
    "        # Else doing a random choice --> exploration\n",
    "        else:\n",
    "            action = env.action_space.sample()\n",
    "        \n",
    "\n",
    "        # Take the action (a) and observe the outcome state(s') and reward (r)\n",
    "        new_observation, reward, terminated, truncated, info = env.step(action)\n",
    "\n",
    "\n",
    "        # Update Q(s,a):= Q(s,a) + lr [R(s,a) + gamma * max Q(s',a') - Q(s,a)]\n",
    "        # qtable[new_state,:] : all the actions we can take from new state\n",
    "        q_table[observation, action] = q_table[observation, action] * (1 - learning_rate) +  learning_rate * (reward + discount_rate * np.max(q_table[new_observation, :]))\n",
    "   \n",
    "        \n",
    "        rewards_current_episode  += reward\n",
    "        \n",
    "        # Our new state is state\n",
    "        observation = new_observation\n",
    "        \n",
    "        # If done (if we're dead) : finish episode\n",
    "        if terminated or truncated: \n",
    "            break\n",
    "        \n",
    "    # Reduce epsilon (because we need less and less exploration)\n",
    "    exploration_rate = min_exploration_rate + (max_exploration_rate - min_exploration_rate)*np.exp(-exploration_decay_rate*episode) \n",
    "    rewards_all_episodes.append(rewards_current_episode )\n",
    "\n",
    "# Calculate and print the average reward per thousand episodes\n",
    "rewards_per_ten_thousand_episodes = np.split(np.array(rewards_all_episodes),num_episodes/10000)\n",
    "count = 10000\n",
    "\n",
    "print(\"********Average reward per thousand episodes********\\n\")\n",
    "for r in rewards_per_ten_thousand_episodes:\n",
    "    print(count, \": \", str(sum(r/10000)))\n",
    "    count += 10000\n",
    "    \n"
   ]
  },
  {
   "cell_type": "code",
   "execution_count": 45,
   "metadata": {},
   "outputs": [
    {
     "name": "stdout",
     "output_type": "stream",
     "text": [
      "+---------+\n",
      "|R: | : :G|\n",
      "| : | : : |\n",
      "| : : : : |\n",
      "| | : | : |\n",
      "|\u001b[35m\u001b[34;1m\u001b[43mY\u001b[0m\u001b[0m\u001b[0m| : |B: |\n",
      "+---------+\n",
      "  (Dropoff)\n",
      "\n",
      "****You reached the goal!****\n"
     ]
    }
   ],
   "source": [
    "\n",
    "for episode in range(3):\n",
    "    observation, info = env.reset()\n",
    "    print(\"********EPISODE \", episode+1, \"********\\n\\n\\n\\n\")\n",
    "    time.sleep(1)\n",
    "\n",
    "    for step in range(25):\n",
    "        clear_output(wait=True)\n",
    "        print(env.render())\n",
    "        time.sleep(0.3)\n",
    "\n",
    "        action = np.argmax(q_table[observation,:])\n",
    "        new_observation, reward, terminated, truncated, info = env.step(action)\n",
    "        if terminated or truncated: \n",
    "            clear_output(wait=True)\n",
    "            print(env.render())\n",
    "            if terminated:\n",
    "                print(\"****You reached the goal!****\")\n",
    "                time.sleep(3)\n",
    "            else:\n",
    "                print(\"****Something else happened!****\")\n",
    "                time.sleep(3)\n",
    "                clear_output(wait=True)\n",
    "            break\n",
    "        observation = new_observation\n",
    "        "
   ]
  }
 ],
 "metadata": {
  "kernelspec": {
   "display_name": "env",
   "language": "python",
   "name": "python3"
  },
  "language_info": {
   "codemirror_mode": {
    "name": "ipython",
    "version": 3
   },
   "file_extension": ".py",
   "mimetype": "text/x-python",
   "name": "python",
   "nbconvert_exporter": "python",
   "pygments_lexer": "ipython3",
   "version": "3.10.5"
  },
  "orig_nbformat": 4,
  "vscode": {
   "interpreter": {
    "hash": "9fa7e97b85bae90f199f0c94d9acbda0c8fe2596009df7ae1a0455e95b822e1c"
   }
  }
 },
 "nbformat": 4,
 "nbformat_minor": 2
}
