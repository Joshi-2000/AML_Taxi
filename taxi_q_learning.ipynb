{
 "cells": [
  {
   "cell_type": "code",
   "execution_count": 3,
   "metadata": {},
   "outputs": [],
   "source": [
    "import gymnasium as gym\n",
    "import numpy as np\n",
    "import time\n",
    "import random\n",
    "from IPython.display import clear_output"
   ]
  },
  {
   "cell_type": "code",
   "execution_count": 14,
   "metadata": {},
   "outputs": [
    {
     "name": "stdout",
     "output_type": "stream",
     "text": [
      "\n",
      "\u001b[41mS\u001b[0mFFF\n",
      "FHFH\n",
      "FFFH\n",
      "HFFG\n",
      "\n"
     ]
    }
   ],
   "source": [
    "env = gym.make('FrozenLake-v1', desc=None, map_name=\"4x4\", is_slippery=True, render_mode='ansi').env\n",
    "# env = gym.make(\"Taxi-v3\", render_mode='ansi').env\n",
    "\n",
    "env.reset()\n",
    "print(env.render())\n"
   ]
  },
  {
   "cell_type": "code",
   "execution_count": 15,
   "metadata": {},
   "outputs": [],
   "source": [
    "\n",
    "\n",
    "# Hyperparameters\n",
    "num_episodes = 10000\n",
    "max_steps_per_episode = 100\n",
    "\n",
    "learning_rate = 0.1\n",
    "discount_rate = 0.99\n",
    "\n",
    "exploration_rate = 1\n",
    "max_exploration_rate = 1\n",
    "min_exploration_rate = 0.01\n",
    "exploration_decay_rate = 0.001\n",
    "\n"
   ]
  },
  {
   "cell_type": "code",
   "execution_count": 16,
   "metadata": {},
   "outputs": [],
   "source": [
    "\n",
    "def train_q_learn(learning_rate, discount_rate, num_episodes, max_steps_per_episode, exploration_rate, max_exploration_rate, min_exploration_rate, exploration_decay_rate):\n",
    "    rewards_all_episodes = []\n",
    "    # Initialize the q-table with zero values\n",
    "    q_table = np.zeros([env.observation_space.n, env.action_space.n])\n",
    "\n",
    "    # Random generator\n",
    "    rng =np.random.default_rng()\n",
    "\n",
    "    # 2 For life or until learning is stopped\n",
    "    for episode in range(num_episodes):\n",
    "        # Reset the environment\n",
    "        observation, info = env.reset()\n",
    "        step = 0\n",
    "        rewards_current_episode  = 0\n",
    "        \n",
    "        for step in range(max_steps_per_episode):\n",
    "            # 3. Choose an action a in the current world state (s)\n",
    "            ## First we randomize a number\n",
    "            exploration_rate_threshold = random.uniform(0, 1)\n",
    "            \n",
    "            ## If this number > greater than epsilon --> exploitation (taking the biggest Q value for this state)\n",
    "            if exploration_rate_threshold > exploration_rate:\n",
    "                action = np.argmax(q_table[observation,:])\n",
    "\n",
    "            # Else doing a random choice --> exploration\n",
    "            else:\n",
    "                action = env.action_space.sample()\n",
    "            \n",
    "\n",
    "            # Take the action (a) and observe the outcome state(s') and reward (r)\n",
    "            new_observation, reward, terminated, truncated, info = env.step(action)\n",
    "\n",
    "\n",
    "            # Update Q(s,a):= Q(s,a) + lr [R(s,a) + gamma * max Q(s',a') - Q(s,a)]\n",
    "            # qtable[new_state,:] : all the actions we can take from new state\n",
    "            q_table[observation, action] = q_table[observation, action] * (1 - learning_rate) +  learning_rate * (reward + discount_rate * np.max(q_table[new_observation, :]))\n",
    "    \n",
    "            \n",
    "            rewards_current_episode  += reward\n",
    "            \n",
    "            # Our new state is state\n",
    "            observation = new_observation\n",
    "            \n",
    "            # If done (if we're dead) : finish episode\n",
    "            if terminated or truncated: \n",
    "                break\n",
    "            \n",
    "        # Reduce epsilon (because we need less and less exploration)\n",
    "        exploration_rate = min_exploration_rate + (max_exploration_rate - min_exploration_rate)*np.exp(-exploration_decay_rate*episode) \n",
    "        rewards_all_episodes.append(rewards_current_episode )\n",
    "\n",
    "    # Calculate and print the average reward per thousand episodes\n",
    "    rewards_per_ten_thousand_episodes = np.split(np.array(rewards_all_episodes),num_episodes/10000)\n",
    "    count = 10000\n",
    "\n",
    "    print(\"********Average reward per thousand episodes********\\n\")\n",
    "    for r in rewards_per_ten_thousand_episodes:\n",
    "        print(count, \": \", str(sum(r/10000)))\n",
    "        count += 10000\n",
    "    return q_table\n",
    "    \n"
   ]
  },
  {
   "cell_type": "code",
   "execution_count": 20,
   "metadata": {},
   "outputs": [],
   "source": [
    "def visualise(q_table):\n",
    "    for episode in range(3):\n",
    "        observation, info = env.reset()\n",
    "        print(\"********EPISODE \", episode+1, \"********\\n\\n\\n\\n\")\n",
    "        time.sleep(1)\n",
    "\n",
    "        for step in range(max_steps_per_episode):\n",
    "            clear_output(wait=True)\n",
    "            print(env.render())\n",
    "            time.sleep(0.3)\n",
    "\n",
    "            action = np.argmax(q_table[observation,:])\n",
    "            new_observation, reward, terminated, truncated, info = env.step(action)\n",
    "            if terminated or truncated: \n",
    "                clear_output(wait=True)\n",
    "                print(env.render())\n",
    "                if reward > 0:\n",
    "                    print(\"****You reached the goal!****\")\n",
    "                    time.sleep(3)\n",
    "                else:\n",
    "                    print(\"****Something else happened!****\")\n",
    "                    time.sleep(3)\n",
    "                    clear_output(wait=True)\n",
    "                break\n",
    "            observation = new_observation\n",
    "        "
   ]
  },
  {
   "cell_type": "code",
   "execution_count": 18,
   "metadata": {},
   "outputs": [
    {
     "name": "stdout",
     "output_type": "stream",
     "text": [
      "********Average reward per thousand episodes********\n",
      "\n",
      "10000 :  0.07970000000000126\n",
      "20000 :  0.1319000000000018\n",
      "30000 :  0.1355000000000014\n",
      "40000 :  0.12870000000000215\n",
      "50000 :  0.13860000000000106\n",
      "60000 :  0.13470000000000149\n",
      "70000 :  0.12770000000000226\n",
      "80000 :  0.13600000000000134\n",
      "90000 :  0.14690000000000014\n",
      "100000 :  0.13840000000000108\n"
     ]
    }
   ],
   "source": [
    "q_table = train_q_learn(learning_rate, discount_rate, num_episodes, max_steps_per_episode, exploration_rate, max_exploration_rate, min_exploration_rate, exploration_decay_rate)\n"
   ]
  },
  {
   "cell_type": "code",
   "execution_count": 21,
   "metadata": {},
   "outputs": [
    {
     "name": "stdout",
     "output_type": "stream",
     "text": [
      "  (Down)\n",
      "SFFF\n",
      "F\u001b[41mH\u001b[0mFH\n",
      "FFFH\n",
      "HFFG\n",
      "\n",
      "****Something else happened!****\n"
     ]
    }
   ],
   "source": [
    "visualise(q_table)"
   ]
  }
 ],
 "metadata": {
  "kernelspec": {
   "display_name": "env",
   "language": "python",
   "name": "python3"
  },
  "language_info": {
   "codemirror_mode": {
    "name": "ipython",
    "version": 3
   },
   "file_extension": ".py",
   "mimetype": "text/x-python",
   "name": "python",
   "nbconvert_exporter": "python",
   "pygments_lexer": "ipython3",
   "version": "3.10.5"
  },
  "orig_nbformat": 4,
  "vscode": {
   "interpreter": {
    "hash": "9fa7e97b85bae90f199f0c94d9acbda0c8fe2596009df7ae1a0455e95b822e1c"
   }
  }
 },
 "nbformat": 4,
 "nbformat_minor": 2
}
